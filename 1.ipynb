{
  "nbformat": 4,
  "nbformat_minor": 0,
  "metadata": {
    "colab": {
      "provenance": [],
      "authorship_tag": "ABX9TyMNZYb/C2Qnkq98E+WS7cHe",
      "include_colab_link": true
    },
    "kernelspec": {
      "name": "python3",
      "display_name": "Python 3"
    },
    "language_info": {
      "name": "python"
    }
  },
  "cells": [
    {
      "cell_type": "markdown",
      "metadata": {
        "id": "view-in-github",
        "colab_type": "text"
      },
      "source": [
        "<a href=\"https://colab.research.google.com/github/batuhanbyzt/Miuul_1/blob/main/1.ipynb\" target=\"_parent\"><img src=\"https://colab.research.google.com/assets/colab-badge.svg\" alt=\"Open In Colab\"/></a>"
      ]
    },
    {
      "cell_type": "code",
      "execution_count": null,
      "metadata": {
        "id": "ZyN9vT2UwhbD"
      },
      "outputs": [],
      "source": [
        "#1. Task\n",
        "\n",
        "x = 8\n",
        "y = 3.2\n",
        "z = 8j+18\n",
        "a = \"Hello world\"\n",
        "b = True\n",
        "c = 23 < 22\n",
        "l = [1, 2, 3, 4]\n",
        "d = {\"Name\": \"Jake\",\n",
        "     \"Age\": 27,\n",
        "     \"Adress\": \"Downtown\"}\n",
        "t = (\"Machine Learning\", \"Data Science\")\n",
        "s = {\"Python\", \"Machine Learning\", \"Data Science\"}"
      ]
    },
    {
      "cell_type": "code",
      "source": [
        "type(x)"
      ],
      "metadata": {
        "colab": {
          "base_uri": "https://localhost:8080/"
        },
        "id": "riHmng59xc60",
        "outputId": "2841abfc-963a-4f79-d1d4-d3cd9f54969a"
      },
      "execution_count": null,
      "outputs": [
        {
          "output_type": "execute_result",
          "data": {
            "text/plain": [
              "int"
            ]
          },
          "metadata": {},
          "execution_count": 164
        }
      ]
    },
    {
      "cell_type": "code",
      "source": [
        "type(y)"
      ],
      "metadata": {
        "colab": {
          "base_uri": "https://localhost:8080/"
        },
        "id": "YcH1Z2beyCQh",
        "outputId": "6fbb68d0-051f-4ef2-9625-9c2e4e035fff"
      },
      "execution_count": null,
      "outputs": [
        {
          "output_type": "execute_result",
          "data": {
            "text/plain": [
              "float"
            ]
          },
          "metadata": {},
          "execution_count": 165
        }
      ]
    },
    {
      "cell_type": "code",
      "source": [
        "type(z)"
      ],
      "metadata": {
        "colab": {
          "base_uri": "https://localhost:8080/"
        },
        "id": "47nnkVfbyCxr",
        "outputId": "a3279d23-debe-4adf-a6c5-dd767fe7c50c"
      },
      "execution_count": null,
      "outputs": [
        {
          "output_type": "execute_result",
          "data": {
            "text/plain": [
              "complex"
            ]
          },
          "metadata": {},
          "execution_count": 166
        }
      ]
    },
    {
      "cell_type": "code",
      "source": [
        "type(a)"
      ],
      "metadata": {
        "colab": {
          "base_uri": "https://localhost:8080/"
        },
        "id": "AOiwWUi0yD31",
        "outputId": "bb2b0ba0-c77e-4305-e5a7-a9bbba970fa9"
      },
      "execution_count": null,
      "outputs": [
        {
          "output_type": "execute_result",
          "data": {
            "text/plain": [
              "str"
            ]
          },
          "metadata": {},
          "execution_count": 167
        }
      ]
    },
    {
      "cell_type": "code",
      "source": [
        "type(b)"
      ],
      "metadata": {
        "colab": {
          "base_uri": "https://localhost:8080/"
        },
        "id": "mVLtI6nMyE59",
        "outputId": "ecbe34f8-4ac3-4e19-e5c1-cf22078747b0"
      },
      "execution_count": null,
      "outputs": [
        {
          "output_type": "execute_result",
          "data": {
            "text/plain": [
              "bool"
            ]
          },
          "metadata": {},
          "execution_count": 168
        }
      ]
    },
    {
      "cell_type": "code",
      "source": [
        "type(c)"
      ],
      "metadata": {
        "colab": {
          "base_uri": "https://localhost:8080/"
        },
        "id": "a6fdY1vwyF6e",
        "outputId": "b1f90a26-d48d-4e9e-d378-74e1766c0820"
      },
      "execution_count": null,
      "outputs": [
        {
          "output_type": "execute_result",
          "data": {
            "text/plain": [
              "bool"
            ]
          },
          "metadata": {},
          "execution_count": 169
        }
      ]
    },
    {
      "cell_type": "code",
      "source": [
        "type(l)"
      ],
      "metadata": {
        "colab": {
          "base_uri": "https://localhost:8080/"
        },
        "id": "56XDmn0nyI6W",
        "outputId": "d5861bad-63a3-4cfd-dc86-7f0a0a257fea"
      },
      "execution_count": null,
      "outputs": [
        {
          "output_type": "execute_result",
          "data": {
            "text/plain": [
              "list"
            ]
          },
          "metadata": {},
          "execution_count": 170
        }
      ]
    },
    {
      "cell_type": "code",
      "source": [
        "type(d)"
      ],
      "metadata": {
        "colab": {
          "base_uri": "https://localhost:8080/"
        },
        "id": "wxglj7HkyMsF",
        "outputId": "0a0b13d8-04eb-43fa-bd7d-e9b6f3f454d8"
      },
      "execution_count": null,
      "outputs": [
        {
          "output_type": "execute_result",
          "data": {
            "text/plain": [
              "dict"
            ]
          },
          "metadata": {},
          "execution_count": 171
        }
      ]
    },
    {
      "cell_type": "code",
      "source": [
        "type(t)"
      ],
      "metadata": {
        "colab": {
          "base_uri": "https://localhost:8080/"
        },
        "id": "RqNBp5umyOrv",
        "outputId": "dcbd79f2-7f49-454a-ab51-750183e16370"
      },
      "execution_count": null,
      "outputs": [
        {
          "output_type": "execute_result",
          "data": {
            "text/plain": [
              "tuple"
            ]
          },
          "metadata": {},
          "execution_count": 172
        }
      ]
    },
    {
      "cell_type": "code",
      "source": [
        "type(s)"
      ],
      "metadata": {
        "colab": {
          "base_uri": "https://localhost:8080/"
        },
        "id": "iGTTtMU7yPiW",
        "outputId": "8979efd1-f8ca-442a-ae8a-80905b57686e"
      },
      "execution_count": null,
      "outputs": [
        {
          "output_type": "execute_result",
          "data": {
            "text/plain": [
              "set"
            ]
          },
          "metadata": {},
          "execution_count": 173
        }
      ]
    },
    {
      "cell_type": "code",
      "source": [
        "#2. Task\n",
        "\"\"\"Verilen string ifadenin tüm harflerini büyük harfe çeviriniz. Virgül ve nokta yerine space koyunuz,kelime kelime ayırınız.\"\"\"\n",
        "\n",
        "text = \"The goal is to turn data into information, and information into insight.\""
      ],
      "metadata": {
        "id": "cGAlzJqmyUQZ"
      },
      "execution_count": null,
      "outputs": []
    },
    {
      "cell_type": "code",
      "source": [
        "new=text.upper().replace(\",\",\" \").replace(\".\",\" \").split()"
      ],
      "metadata": {
        "id": "bNHsSuF6zWf5"
      },
      "execution_count": null,
      "outputs": []
    },
    {
      "cell_type": "code",
      "source": [
        "new"
      ],
      "metadata": {
        "colab": {
          "base_uri": "https://localhost:8080/"
        },
        "id": "qpF7NsBI0MV2",
        "outputId": "96b8f7c8-dbd4-46c3-9d3a-42da4ec1030e"
      },
      "execution_count": null,
      "outputs": [
        {
          "output_type": "execute_result",
          "data": {
            "text/plain": [
              "['THE',\n",
              " 'GOAL',\n",
              " 'IS',\n",
              " 'TO',\n",
              " 'TURN',\n",
              " 'DATA',\n",
              " 'INTO',\n",
              " 'INFORMATION',\n",
              " 'AND',\n",
              " 'INFORMATION',\n",
              " 'INTO',\n",
              " 'INSIGHT']"
            ]
          },
          "metadata": {},
          "execution_count": 176
        }
      ]
    },
    {
      "cell_type": "code",
      "source": [
        "#3. Task\n",
        "\"\"\"\n",
        "Görev 3: Verilen listeye aşağıdaki adımları uygulayınız.\n",
        "\n",
        "Adım 1: Verilen listenin eleman sayısına bakınız.\n",
        "Adım 2: Sıfırıncı ve onuncu indeksteki elemanları çağırınız.\n",
        "Adım 3: Verilen liste üzerinden [\"D\", \"A\", \"T\", \"A\"] listesi oluşturunuz.\n",
        "Adım 4: Sekizinci indeksteki elemanı siliniz.\n",
        "Adım 5: Yeni bir eleman ekleyiniz.\n",
        "Adım 6: Sekizinci indekse \"N\" elemanını tekrar ekleyiniz.\n",
        "\n",
        "\"\"\"\n",
        "lst = [\"D\",\"A\",\"T\",\"A\",\"S\",\"C\",\"I\",\"E\",\"N\",\"C\",\"E\"]"
      ],
      "metadata": {
        "id": "lc-kvSaa0N0V"
      },
      "execution_count": null,
      "outputs": []
    },
    {
      "cell_type": "code",
      "source": [
        "len(lst)"
      ],
      "metadata": {
        "colab": {
          "base_uri": "https://localhost:8080/"
        },
        "id": "_sLcaJvh1FYT",
        "outputId": "769f83c3-6f9c-4ed5-875c-d00d5accbcbd"
      },
      "execution_count": null,
      "outputs": [
        {
          "output_type": "execute_result",
          "data": {
            "text/plain": [
              "11"
            ]
          },
          "metadata": {},
          "execution_count": 178
        }
      ]
    },
    {
      "cell_type": "code",
      "source": [
        "lst[0]"
      ],
      "metadata": {
        "colab": {
          "base_uri": "https://localhost:8080/",
          "height": 36
        },
        "id": "VGaZ2F4l1IT7",
        "outputId": "1c8fde8d-dd22-4737-a841-ee1078a43400"
      },
      "execution_count": null,
      "outputs": [
        {
          "output_type": "execute_result",
          "data": {
            "text/plain": [
              "'D'"
            ],
            "application/vnd.google.colaboratory.intrinsic+json": {
              "type": "string"
            }
          },
          "metadata": {},
          "execution_count": 179
        }
      ]
    },
    {
      "cell_type": "code",
      "source": [
        "lst[10]"
      ],
      "metadata": {
        "colab": {
          "base_uri": "https://localhost:8080/",
          "height": 36
        },
        "id": "d_ctmPuy1Vfd",
        "outputId": "982c5bfa-2e0e-40df-ca6e-206a490fb317"
      },
      "execution_count": null,
      "outputs": [
        {
          "output_type": "execute_result",
          "data": {
            "text/plain": [
              "'E'"
            ],
            "application/vnd.google.colaboratory.intrinsic+json": {
              "type": "string"
            }
          },
          "metadata": {},
          "execution_count": 180
        }
      ]
    },
    {
      "cell_type": "code",
      "source": [
        "lst[0:4]"
      ],
      "metadata": {
        "colab": {
          "base_uri": "https://localhost:8080/"
        },
        "id": "djeAgPba1Zkj",
        "outputId": "bffeb16f-356a-472a-e575-2d73d8b763ec"
      },
      "execution_count": null,
      "outputs": [
        {
          "output_type": "execute_result",
          "data": {
            "text/plain": [
              "['D', 'A', 'T', 'A']"
            ]
          },
          "metadata": {},
          "execution_count": 181
        }
      ]
    },
    {
      "cell_type": "code",
      "source": [
        "del lst[8]"
      ],
      "metadata": {
        "id": "yPghNR8x1dZY"
      },
      "execution_count": null,
      "outputs": []
    },
    {
      "cell_type": "code",
      "source": [
        "print(lst)"
      ],
      "metadata": {
        "colab": {
          "base_uri": "https://localhost:8080/"
        },
        "id": "FWDyRAy415LF",
        "outputId": "b91bdf6c-593b-498a-da46-97ab691d9a20"
      },
      "execution_count": null,
      "outputs": [
        {
          "output_type": "stream",
          "name": "stdout",
          "text": [
            "['D', 'A', 'T', 'A', 'S', 'C', 'I', 'E', 'C', 'E']\n"
          ]
        }
      ]
    },
    {
      "cell_type": "code",
      "source": [
        "lst.append(88)"
      ],
      "metadata": {
        "id": "-V8Q8Vxt2EZz"
      },
      "execution_count": null,
      "outputs": []
    },
    {
      "cell_type": "code",
      "source": [
        "print(lst)"
      ],
      "metadata": {
        "colab": {
          "base_uri": "https://localhost:8080/"
        },
        "id": "3SamIt6Q2Iya",
        "outputId": "c626ffa5-2954-4d2f-e9d6-5e78c328b770"
      },
      "execution_count": null,
      "outputs": [
        {
          "output_type": "stream",
          "name": "stdout",
          "text": [
            "['D', 'A', 'T', 'A', 'S', 'C', 'I', 'E', 'C', 'E', 88]\n"
          ]
        }
      ]
    },
    {
      "cell_type": "code",
      "source": [
        "lst.insert(8,\"N\")"
      ],
      "metadata": {
        "id": "MjYM9Sk22OxC"
      },
      "execution_count": null,
      "outputs": []
    },
    {
      "cell_type": "code",
      "source": [
        "print(lst)"
      ],
      "metadata": {
        "colab": {
          "base_uri": "https://localhost:8080/"
        },
        "id": "iiZQcivO2UVm",
        "outputId": "559ddbeb-b18b-47bf-e614-742185b66de9"
      },
      "execution_count": null,
      "outputs": [
        {
          "output_type": "stream",
          "name": "stdout",
          "text": [
            "['D', 'A', 'T', 'A', 'S', 'C', 'I', 'E', 'N', 'C', 'E', 88]\n"
          ]
        }
      ]
    },
    {
      "cell_type": "code",
      "source": [
        "#4. Task\n",
        "\n",
        "\"\"\"Verilen sözlük yapısına aşağıdaki adımları uygulayınız.\n",
        "\n",
        "Adım 1: Key değerlerine erişiniz.\n",
        "Adım 2: Value'lara erişiniz.\n",
        "Adım 3: Daisy key'ine ait 12 değerini 13 olarak güncelleyiniz.\n",
        "Adım 4: Key değeri Ahmet value değeri [Turkey,24] olan yeni bir değer ekleyiniz.\n",
        "Adım 5: Antonio'yu dictionary'den siliniz.\"\"\"\n",
        "\n",
        "\n",
        "dict = {\"Christian\": [\"America\",18],\n",
        "        \"Daisy\": [\"England\",12],\n",
        "        \"Antonio\": [\"Spain\",22],\n",
        "        \"Dante\": [\"Italy\",25]}"
      ],
      "metadata": {
        "id": "glDhkEEu2XKj"
      },
      "execution_count": null,
      "outputs": []
    },
    {
      "cell_type": "code",
      "source": [
        "dict.keys()"
      ],
      "metadata": {
        "colab": {
          "base_uri": "https://localhost:8080/"
        },
        "id": "-AC_fp-H4Fg-",
        "outputId": "1f522450-2b6c-44c9-f227-0ed290451ac9"
      },
      "execution_count": null,
      "outputs": [
        {
          "output_type": "execute_result",
          "data": {
            "text/plain": [
              "dict_keys(['Christian', 'Daisy', 'Antonio', 'Dante'])"
            ]
          },
          "metadata": {},
          "execution_count": 189
        }
      ]
    },
    {
      "cell_type": "code",
      "source": [
        "dict.values()"
      ],
      "metadata": {
        "colab": {
          "base_uri": "https://localhost:8080/"
        },
        "id": "Qd9yy7DG4LCy",
        "outputId": "950222a8-8313-45f0-b4f7-59bda951f177"
      },
      "execution_count": null,
      "outputs": [
        {
          "output_type": "execute_result",
          "data": {
            "text/plain": [
              "dict_values([['America', 18], ['England', 12], ['Spain', 22], ['Italy', 25]])"
            ]
          },
          "metadata": {},
          "execution_count": 190
        }
      ]
    },
    {
      "cell_type": "code",
      "source": [
        "dict.update({\"Daisy\": [\"England\",13]})"
      ],
      "metadata": {
        "id": "j9g4bcqU4Rr9"
      },
      "execution_count": null,
      "outputs": []
    },
    {
      "cell_type": "code",
      "source": [
        "print(dict)"
      ],
      "metadata": {
        "colab": {
          "base_uri": "https://localhost:8080/"
        },
        "id": "Q7f5lLFr41rn",
        "outputId": "a4adb668-d2a2-44ee-c43f-ddd4660423d1"
      },
      "execution_count": null,
      "outputs": [
        {
          "output_type": "stream",
          "name": "stdout",
          "text": [
            "{'Christian': ['America', 18], 'Daisy': ['England', 13], 'Antonio': ['Spain', 22], 'Dante': ['Italy', 25]}\n"
          ]
        }
      ]
    },
    {
      "cell_type": "code",
      "source": [
        "dict[\"Daisy\"][1]=18 #ekstra çözüm"
      ],
      "metadata": {
        "id": "u23sRSyB49S1"
      },
      "execution_count": null,
      "outputs": []
    },
    {
      "cell_type": "code",
      "source": [
        "dict.update({\"Ahmet\": [\"Turkey\",24]})"
      ],
      "metadata": {
        "id": "I5EJ5lfO5Jn_"
      },
      "execution_count": null,
      "outputs": []
    },
    {
      "cell_type": "code",
      "source": [
        "print(dict)"
      ],
      "metadata": {
        "colab": {
          "base_uri": "https://localhost:8080/"
        },
        "id": "ciPOblv95YB4",
        "outputId": "3752c755-dc49-4542-e7bc-127396e40a1f"
      },
      "execution_count": null,
      "outputs": [
        {
          "output_type": "stream",
          "name": "stdout",
          "text": [
            "{'Christian': ['America', 18], 'Daisy': ['England', 18], 'Antonio': ['Spain', 22], 'Dante': ['Italy', 25], 'Ahmet': ['Turkey', 24]}\n"
          ]
        }
      ]
    },
    {
      "cell_type": "code",
      "source": [
        "del dict[\"Antonio\"]"
      ],
      "metadata": {
        "id": "orSGtglC5dLs"
      },
      "execution_count": null,
      "outputs": []
    },
    {
      "cell_type": "code",
      "source": [
        "print(dict)"
      ],
      "metadata": {
        "colab": {
          "base_uri": "https://localhost:8080/"
        },
        "id": "c_EiIkK75iqY",
        "outputId": "a6cdcbf8-23d4-4bc0-f236-22ab0beb49ca"
      },
      "execution_count": null,
      "outputs": [
        {
          "output_type": "stream",
          "name": "stdout",
          "text": [
            "{'Christian': ['America', 18], 'Daisy': ['England', 18], 'Dante': ['Italy', 25], 'Ahmet': ['Turkey', 24]}\n"
          ]
        }
      ]
    },
    {
      "cell_type": "code",
      "source": [
        "#5. Task\n",
        "\"\"\"Argüman olarak bir liste alan, listenin içerisindeki tek ve çift sayıları ayrı listelere atayan ve bu listeleri\n",
        "return eden fonksiyon yazınız\"\"\"\n",
        "l = [2,13,18,93,22]"
      ],
      "metadata": {
        "id": "MsSVwqJm5q-B"
      },
      "execution_count": null,
      "outputs": []
    },
    {
      "cell_type": "code",
      "source": [
        "tek = []\n",
        "cift = []\n",
        "def func(liste_gir):\n",
        "  for i in liste_gir:\n",
        "    if i % 2 == 0:\n",
        "      cift.append(i)\n",
        "    else:\n",
        "      tek.append(i)\n",
        "  return cift,tek"
      ],
      "metadata": {
        "id": "xwQLPauG539V"
      },
      "execution_count": null,
      "outputs": []
    },
    {
      "cell_type": "code",
      "source": [
        "func(l)"
      ],
      "metadata": {
        "colab": {
          "base_uri": "https://localhost:8080/"
        },
        "id": "jSeJJZyq67hH",
        "outputId": "50ac0bf6-d678-44ba-ae5f-167f43fd7909"
      },
      "execution_count": null,
      "outputs": [
        {
          "output_type": "execute_result",
          "data": {
            "text/plain": [
              "([2, 18, 22], [13, 93])"
            ]
          },
          "metadata": {},
          "execution_count": 249
        }
      ]
    },
    {
      "cell_type": "code",
      "source": [
        "#6. Task\n",
        "\"\"\"Aşağıda verilen listede mühendislik ve tıp fakülterinde dereceye giren öğrencilerin isimleri\n",
        "bulunmaktadır. Sırasıyla ilk üç öğrenci mühendislik fakültesinin başarı sırasını temsil ederken son üç öğrenci de\n",
        "tıp fakültesi öğrenci sırasına aittir. Enumarate kullanarak öğrenci derecelerini fakülte özelinde yazdırınız.\"\"\"\n",
        "ogrenciler = [\"Ali\", \"Veli\", \"Ayşe\", \"Talat\", \"Zeynep\", \"Ece\"]"
      ],
      "metadata": {
        "id": "QoXHku4W9vU0"
      },
      "execution_count": null,
      "outputs": []
    },
    {
      "cell_type": "code",
      "source": [
        "for index,i in enumerate(ogrenciler,1):\n",
        "  if index < 4:\n",
        "    print(f\"Mühendislik Fakültesi {index} .  öğrenci: {i}\")\n",
        "  else:\n",
        "    print(f\"Tıp Fakültesi {index-3} .  öğrenci: {i}\")"
      ],
      "metadata": {
        "colab": {
          "base_uri": "https://localhost:8080/"
        },
        "id": "r7VP-aQuBNfc",
        "outputId": "862017ef-4278-45da-cecc-334487222c19"
      },
      "execution_count": null,
      "outputs": [
        {
          "output_type": "stream",
          "name": "stdout",
          "text": [
            "Mühendislik Fakültesi 1 .  öğrenci: Ali\n",
            "Mühendislik Fakültesi 2 .  öğrenci: Veli\n",
            "Mühendislik Fakültesi 3 .  öğrenci: Ayşe\n",
            "Tıp Fakültesi 1 .  öğrenci: Talat\n",
            "Tıp Fakültesi 2 .  öğrenci: Zeynep\n",
            "Tıp Fakültesi 3 .  öğrenci: Ece\n"
          ]
        }
      ]
    },
    {
      "cell_type": "code",
      "source": [
        "#7. Task\n",
        "\"\"\"Aşağıda 3 adet liste verilmiştir. Listelerde sırası ile bir dersin kodu, kredisi ve kontenjan bilgileri yer\n",
        "almaktadır. Zip kullanarak ders bilgilerini bastırınız.\"\"\"\n",
        "\n",
        "ders_kodu = [\"CMP1005\",\"PSY1001\",\"HUK1005\",\"SEN2204\"]\n",
        "\n",
        "kredi = [3,4,2,4]\n",
        "\n",
        "kontenjan = [30,75,150,25]"
      ],
      "metadata": {
        "id": "LKPhOUi1Fmh7"
      },
      "execution_count": null,
      "outputs": []
    },
    {
      "cell_type": "code",
      "source": [
        "derslik=list(zip(kredi,ders_kodu,kontenjan))"
      ],
      "metadata": {
        "id": "r11XaYVFH8P7"
      },
      "execution_count": null,
      "outputs": []
    },
    {
      "cell_type": "code",
      "source": [
        "print(derslik)"
      ],
      "metadata": {
        "colab": {
          "base_uri": "https://localhost:8080/"
        },
        "id": "mHLYd_3RJTe8",
        "outputId": "942985e5-bd6e-47ac-e5e0-45f77cee4026"
      },
      "execution_count": null,
      "outputs": [
        {
          "output_type": "stream",
          "name": "stdout",
          "text": [
            "[(3, 'CMP1005', 30), (4, 'PSY1001', 75), (2, 'HUK1005', 150), (4, 'SEN2204', 25)]\n"
          ]
        }
      ]
    },
    {
      "cell_type": "code",
      "source": [
        "for i in derslik:\n",
        "  print(f\"Kredisi {i[0]} olan {i[1]} kodlu dersin kontenjanı {i[2]} \")"
      ],
      "metadata": {
        "colab": {
          "base_uri": "https://localhost:8080/"
        },
        "id": "2OzMAwIPIm44",
        "outputId": "d4cad466-fa82-4fbc-807e-5c92072bd4e1"
      },
      "execution_count": null,
      "outputs": [
        {
          "output_type": "stream",
          "name": "stdout",
          "text": [
            "Kredisi 3 olan CMP1005 kodlu dersin kontenjanı 30 \n",
            "Kredisi 4 olan PSY1001 kodlu dersin kontenjanı 75 \n",
            "Kredisi 2 olan HUK1005 kodlu dersin kontenjanı 150 \n",
            "Kredisi 4 olan SEN2204 kodlu dersin kontenjanı 25 \n"
          ]
        }
      ]
    },
    {
      "cell_type": "code",
      "source": [
        "#8. Task\n",
        "\"\"\"Aşağıda 2 adet set verilmiştir. Sizden istenilen eğer 1. küme 2. kümeyi kapsiyor ise ortak elemanlarını\n",
        "eğer kapsamıyor ise 2. kümenin 1. kümeden farkını yazdıracak fonksiyonu tanımlamanız beklenmektedir\"\"\"\n",
        "\n",
        "kume1 = set([\"data\",\"python\"])\n",
        "kume2 = set([\"data\", \"funtion\", \"qcut\",\"lambda\",\"python\", \"miuul\"])"
      ],
      "metadata": {
        "id": "t6AD1jW3Kuph"
      },
      "execution_count": null,
      "outputs": []
    },
    {
      "cell_type": "code",
      "source": [
        "def fonk(x,y):\n",
        "  if x.issuperset(y):\n",
        "    print(x.intersection(y))\n",
        "  else:\n",
        "    print((y-x))"
      ],
      "metadata": {
        "id": "gYkXfYq5LEhB"
      },
      "execution_count": null,
      "outputs": []
    },
    {
      "cell_type": "code",
      "source": [
        "fonk(kume1,kume2)"
      ],
      "metadata": {
        "colab": {
          "base_uri": "https://localhost:8080/"
        },
        "id": "Jr8BBqgaLw3I",
        "outputId": "b71a2b1a-5264-4bc9-e829-2fece0e998b0"
      },
      "execution_count": null,
      "outputs": [
        {
          "output_type": "stream",
          "name": "stdout",
          "text": [
            "{'funtion', 'lambda', 'qcut', 'miuul'}\n"
          ]
        }
      ]
    }
  ]
}